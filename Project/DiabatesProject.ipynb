{
 "cells": [
  {
   "cell_type": "code",
   "execution_count": null,
   "id": "575f5b73",
   "metadata": {},
   "outputs": [],
   "source": [
    "# importing libararies"
   ]
  },
  {
   "cell_type": "code",
   "execution_count": 26,
   "id": "03fe0cbf",
   "metadata": {},
   "outputs": [],
   "source": [
    "import numpy as np\n",
    "import pandas as pd\n",
    "from sklearn import svm\n",
    "from sklearn.preprocessing import StandardScaler\n",
    "from sklearn.feature_selection import SelectPercentile , chi2\n",
    "from sklearn.model_selection import train_test_split\n",
    "from sklearn.metrics import accuracy_score , f1_score"
   ]
  },
  {
   "cell_type": "code",
   "execution_count": 27,
   "id": "3d2ee055",
   "metadata": {},
   "outputs": [],
   "source": [
    "dataset = pd.read_csv(\"C:\\\\Users\\\\engma\\\\Desktop\\\\diabetes_binary_health_indicators_BRFSS2015.csv\")"
   ]
  },
  {
   "cell_type": "code",
   "execution_count": 28,
   "id": "92c6e53e",
   "metadata": {},
   "outputs": [
    {
     "data": {
      "text/plain": [
       "Diabetes_binary         0\n",
       "HighBP                  0\n",
       "HighChol                0\n",
       "CholCheck               0\n",
       "BMI                     0\n",
       "Smoker                  0\n",
       "Stroke                  0\n",
       "HeartDiseaseorAttack    0\n",
       "PhysActivity            0\n",
       "Fruits                  0\n",
       "Veggies                 0\n",
       "HvyAlcoholConsump       0\n",
       "AnyHealthcare           0\n",
       "NoDocbcCost             0\n",
       "GenHlth                 0\n",
       "MentHlth                0\n",
       "PhysHlth                0\n",
       "DiffWalk                0\n",
       "Sex                     0\n",
       "Age                     0\n",
       "Education               0\n",
       "Income                  0\n",
       "dtype: int64"
      ]
     },
     "execution_count": 28,
     "metadata": {},
     "output_type": "execute_result"
    }
   ],
   "source": [
    "dataset.isnull().sum()"
   ]
  },
  {
   "cell_type": "code",
   "execution_count": 29,
   "id": "162373b9",
   "metadata": {},
   "outputs": [],
   "source": [
    "sc = StandardScaler()"
   ]
  },
  {
   "cell_type": "code",
   "execution_count": 30,
   "id": "1ed16fcd",
   "metadata": {},
   "outputs": [
    {
     "name": "stdout",
     "output_type": "stream",
     "text": [
      "   Diabetes_binary\n",
      "0              0.0\n",
      "1              0.0\n",
      "2              0.0\n",
      "3              0.0\n",
      "4              0.0\n",
      "5              0.0\n",
      "6              0.0\n",
      "7              0.0\n",
      "8              1.0\n",
      "9              0.0\n"
     ]
    },
    {
     "data": {
      "text/plain": [
       "(253680, 1)"
      ]
     },
     "execution_count": 30,
     "metadata": {},
     "output_type": "execute_result"
    }
   ],
   "source": [
    "y = dataset.iloc[:,:1]\n",
    "print (y[:10])\n",
    "y.shape"
   ]
  },
  {
   "cell_type": "code",
   "execution_count": 31,
   "id": "9703489d",
   "metadata": {
    "scrolled": false
   },
   "outputs": [
    {
     "name": "stdout",
     "output_type": "stream",
     "text": [
      "   HighBP  HighChol  CholCheck   BMI  Smoker  Stroke  HeartDiseaseorAttack  \\\n",
      "0     1.0       1.0        1.0  40.0     1.0     0.0                   0.0   \n",
      "1     0.0       0.0        0.0  25.0     1.0     0.0                   0.0   \n",
      "2     1.0       1.0        1.0  28.0     0.0     0.0                   0.0   \n",
      "3     1.0       0.0        1.0  27.0     0.0     0.0                   0.0   \n",
      "4     1.0       1.0        1.0  24.0     0.0     0.0                   0.0   \n",
      "5     1.0       1.0        1.0  25.0     1.0     0.0                   0.0   \n",
      "6     1.0       0.0        1.0  30.0     1.0     0.0                   0.0   \n",
      "7     1.0       1.0        1.0  25.0     1.0     0.0                   0.0   \n",
      "8     1.0       1.0        1.0  30.0     1.0     0.0                   1.0   \n",
      "9     0.0       0.0        1.0  24.0     0.0     0.0                   0.0   \n",
      "\n",
      "   PhysActivity  Fruits  Veggies  ...  AnyHealthcare  NoDocbcCost  GenHlth  \\\n",
      "0           0.0     0.0      1.0  ...            1.0          0.0      5.0   \n",
      "1           1.0     0.0      0.0  ...            0.0          1.0      3.0   \n",
      "2           0.0     1.0      0.0  ...            1.0          1.0      5.0   \n",
      "3           1.0     1.0      1.0  ...            1.0          0.0      2.0   \n",
      "4           1.0     1.0      1.0  ...            1.0          0.0      2.0   \n",
      "5           1.0     1.0      1.0  ...            1.0          0.0      2.0   \n",
      "6           0.0     0.0      0.0  ...            1.0          0.0      3.0   \n",
      "7           1.0     0.0      1.0  ...            1.0          0.0      3.0   \n",
      "8           0.0     1.0      1.0  ...            1.0          0.0      5.0   \n",
      "9           0.0     0.0      1.0  ...            1.0          0.0      2.0   \n",
      "\n",
      "   MentHlth  PhysHlth  DiffWalk  Sex   Age  Education  Income  \n",
      "0      18.0      15.0       1.0  0.0   9.0        4.0     3.0  \n",
      "1       0.0       0.0       0.0  0.0   7.0        6.0     1.0  \n",
      "2      30.0      30.0       1.0  0.0   9.0        4.0     8.0  \n",
      "3       0.0       0.0       0.0  0.0  11.0        3.0     6.0  \n",
      "4       3.0       0.0       0.0  0.0  11.0        5.0     4.0  \n",
      "5       0.0       2.0       0.0  1.0  10.0        6.0     8.0  \n",
      "6       0.0      14.0       0.0  0.0   9.0        6.0     7.0  \n",
      "7       0.0       0.0       1.0  0.0  11.0        4.0     4.0  \n",
      "8      30.0      30.0       1.0  0.0   9.0        5.0     1.0  \n",
      "9       0.0       0.0       0.0  1.0   8.0        4.0     3.0  \n",
      "\n",
      "[10 rows x 21 columns]\n"
     ]
    }
   ],
   "source": [
    "x = dataset.iloc[:,1:]\n",
    "print (x[:10])"
   ]
  },
  {
   "cell_type": "code",
   "execution_count": 32,
   "id": "89ab636c",
   "metadata": {},
   "outputs": [],
   "source": [
    "FeatureSelection = SelectPercentile(score_func=chi2,percentile=90)\n",
    "x = FeatureSelection.fit_transform(x,y)"
   ]
  },
  {
   "cell_type": "code",
   "execution_count": 33,
   "id": "c92eb9a2",
   "metadata": {},
   "outputs": [
    {
     "name": "stdout",
     "output_type": "stream",
     "text": [
      "[[ 1.  1. 40.  1.  0.  0.  0.  0.  1.  0.  0.  5. 18. 15.  1.  9.  4.  3.]\n",
      " [ 0.  0. 25.  1.  0.  0.  1.  0.  0.  0.  1.  3.  0.  0.  0.  7.  6.  1.]\n",
      " [ 1.  1. 28.  0.  0.  0.  0.  1.  0.  0.  1.  5. 30. 30.  1.  9.  4.  8.]\n",
      " [ 1.  0. 27.  0.  0.  0.  1.  1.  1.  0.  0.  2.  0.  0.  0. 11.  3.  6.]\n",
      " [ 1.  1. 24.  0.  0.  0.  1.  1.  1.  0.  0.  2.  3.  0.  0. 11.  5.  4.]\n",
      " [ 1.  1. 25.  1.  0.  0.  1.  1.  1.  0.  0.  2.  0.  2.  0. 10.  6.  8.]\n",
      " [ 1.  0. 30.  1.  0.  0.  0.  0.  0.  0.  0.  3.  0. 14.  0.  9.  6.  7.]\n",
      " [ 1.  1. 25.  1.  0.  0.  1.  0.  1.  0.  0.  3.  0.  0.  1. 11.  4.  4.]\n",
      " [ 1.  1. 30.  1.  0.  1.  0.  1.  1.  0.  0.  5. 30. 30.  1.  9.  5.  1.]\n",
      " [ 0.  0. 24.  0.  0.  0.  0.  0.  1.  0.  0.  2.  0.  0.  0.  8.  4.  3.]]\n"
     ]
    }
   ],
   "source": [
    "print (x[:10])\n"
   ]
  },
  {
   "cell_type": "code",
   "execution_count": 34,
   "id": "e293df82",
   "metadata": {},
   "outputs": [
    {
     "data": {
      "text/plain": [
       "(253680, 18)"
      ]
     },
     "execution_count": 34,
     "metadata": {},
     "output_type": "execute_result"
    }
   ],
   "source": [
    "x.shape"
   ]
  },
  {
   "cell_type": "code",
   "execution_count": 35,
   "id": "1885541f",
   "metadata": {},
   "outputs": [],
   "source": [
    "x = sc.fit_transform(x)"
   ]
  },
  {
   "cell_type": "markdown",
   "id": "73c6a864",
   "metadata": {},
   "source": [
    "# training test spliting "
   ]
  },
  {
   "cell_type": "code",
   "execution_count": 36,
   "id": "3b2d15fd",
   "metadata": {},
   "outputs": [
    {
     "name": "stdout",
     "output_type": "stream",
     "text": [
      "(169965, 18)\n",
      "(83715, 18)\n",
      "(169965, 1)\n",
      "(83715, 1)\n"
     ]
    }
   ],
   "source": [
    "x_train,x_test,y_train,y_test= train_test_split(x,y,test_size=0.33,random_state=44)\n",
    "print (x_train.shape)\n",
    "print (x_test.shape)\n",
    "print (y_train.shape)\n",
    "print (y_test.shape)"
   ]
  },
  {
   "cell_type": "code",
   "execution_count": 37,
   "id": "0d46e748",
   "metadata": {},
   "outputs": [
    {
     "name": "stdout",
     "output_type": "stream",
     "text": [
      "(169965,)\n"
     ]
    }
   ],
   "source": [
    "y_train=np.ravel(y_train)\n",
    "print(y_train.shape)"
   ]
  },
  {
   "cell_type": "code",
   "execution_count": 38,
   "id": "493ac82a",
   "metadata": {},
   "outputs": [
    {
     "data": {
      "text/plain": [
       "SVC(kernel='linear')"
      ]
     },
     "execution_count": 38,
     "metadata": {},
     "output_type": "execute_result"
    }
   ],
   "source": [
    "svm_model=svm.SVC(kernel='linear')\n",
    "svm_model.fit(x_train,y_train)"
   ]
  },
  {
   "cell_type": "code",
   "execution_count": 39,
   "id": "280c686e",
   "metadata": {},
   "outputs": [
    {
     "name": "stdout",
     "output_type": "stream",
     "text": [
      "0.8602006295413762 0.861613808755898\n"
     ]
    }
   ],
   "source": [
    "train_score = svm_model.score(x_train,y_train) \n",
    "test_score = svm_model.score(x_test,y_test)\n",
    "print(train_score , test_score)"
   ]
  },
  {
   "cell_type": "code",
   "execution_count": 40,
   "id": "20937425",
   "metadata": {},
   "outputs": [
    {
     "name": "stdout",
     "output_type": "stream",
     "text": [
      "0.861613808755898\n"
     ]
    }
   ],
   "source": [
    "y_predict = svm_model.predict(x_test) \n",
    "AccuracyScore = accuracy_score(y_predict,y_test)\n",
    "print(AccuracyScore)"
   ]
  },
  {
   "cell_type": "code",
   "execution_count": 41,
   "id": "54e980f7",
   "metadata": {},
   "outputs": [
    {
     "name": "stdout",
     "output_type": "stream",
     "text": [
      "f1_score of svm 0.0\n"
     ]
    }
   ],
   "source": [
    " from sklearn import metrics\n",
    "print(\"f1_score of svm\",metrics.f1_score(y_test, y_predict)*100)"
   ]
  },
  {
   "cell_type": "code",
   "execution_count": null,
   "id": "8e1153ab",
   "metadata": {},
   "outputs": [],
   "source": []
  },
  {
   "cell_type": "code",
   "execution_count": null,
   "id": "17119100",
   "metadata": {},
   "outputs": [],
   "source": [
    " "
   ]
  }
 ],
 "metadata": {
  "kernelspec": {
   "display_name": "Python 3 (ipykernel)",
   "language": "python",
   "name": "python3"
  },
  "language_info": {
   "codemirror_mode": {
    "name": "ipython",
    "version": 3
   },
   "file_extension": ".py",
   "mimetype": "text/x-python",
   "name": "python",
   "nbconvert_exporter": "python",
   "pygments_lexer": "ipython3",
   "version": "3.9.7"
  }
 },
 "nbformat": 4,
 "nbformat_minor": 5
}
